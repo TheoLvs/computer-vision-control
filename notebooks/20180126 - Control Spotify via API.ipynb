{
 "cells": [
  {
   "cell_type": "markdown",
   "metadata": {},
   "source": [
    "# Control Spotify via API"
   ]
  },
  {
   "cell_type": "code",
   "execution_count": 1,
   "metadata": {
    "ExecuteTime": {
     "end_time": "2018-05-09T13:57:56.101967Z",
     "start_time": "2018-05-09T13:57:54.548967Z"
    }
   },
   "outputs": [],
   "source": [
    "# Usual\n",
    "import os\n",
    "import matplotlib.pyplot as plt\n",
    "import pandas as pd\n",
    "import numpy as np\n",
    "import sys\n",
    "import time\n",
    "from tqdm import tqdm\n",
    "\n",
    "# Autoreload\n",
    "%load_ext autoreload\n",
    "%autoreload 2\n",
    "%reload_ext autoreload\n",
    "%matplotlib inline"
   ]
  },
  {
   "cell_type": "code",
   "execution_count": 9,
   "metadata": {
    "ExecuteTime": {
     "end_time": "2018-05-09T14:03:09.865967Z",
     "start_time": "2018-05-09T14:03:09.660967Z"
    }
   },
   "outputs": [],
   "source": [
    "import requests"
   ]
  },
  {
   "cell_type": "markdown",
   "metadata": {},
   "source": [
    "# Class wrapper"
   ]
  },
  {
   "cell_type": "markdown",
   "metadata": {},
   "source": [
    "https://beta.developer.spotify.com/console/put-pause/"
   ]
  },
  {
   "cell_type": "code",
   "execution_count": 26,
   "metadata": {
    "ExecuteTime": {
     "end_time": "2018-05-09T15:26:01.783967Z",
     "start_time": "2018-05-09T15:26:01.474967Z"
    }
   },
   "outputs": [],
   "source": [
    "token = \"\""
   ]
  },
  {
   "cell_type": "code",
   "execution_count": 20,
   "metadata": {
    "ExecuteTime": {
     "end_time": "2018-05-09T14:09:41.195967Z",
     "start_time": "2018-05-09T14:09:41.021967Z"
    }
   },
   "outputs": [],
   "source": [
    "class SpotifyControl(object):\n",
    "    def __init__(self,token):\n",
    "        self.token = token\n",
    "        self.headers = {\"Authorization\":f\"Bearer {self.token}\"}\n",
    "        \n",
    "    def pause(self):\n",
    "        url = \"https://api.spotify.com/v1/me/player/pause\"\n",
    "        requests.put(url,headers = self.headers)\n",
    "\n",
    "    def play(self):\n",
    "        url = \"https://api.spotify.com/v1/me/player/play\"\n",
    "        requests.put(url,headers = self.headers)\n",
    "        \n",
    "    def next_track(self):\n",
    "        url = \"https://api.spotify.com/v1/me/player/next\"\n",
    "        requests.post(url,headers = self.headers)\n",
    "\n",
    "    def previous_track(self):\n",
    "        url = \"https://api.spotify.com/v1/me/player/previous\"\n",
    "        requests.post(url,headers = self.headers)"
   ]
  },
  {
   "cell_type": "markdown",
   "metadata": {},
   "source": [
    "# Testing"
   ]
  },
  {
   "cell_type": "code",
   "execution_count": 21,
   "metadata": {
    "ExecuteTime": {
     "end_time": "2018-05-09T14:09:42.448967Z",
     "start_time": "2018-05-09T14:09:42.238967Z"
    }
   },
   "outputs": [],
   "source": [
    "spotify = SpotifyControl(token = token)"
   ]
  },
  {
   "cell_type": "code",
   "execution_count": 25,
   "metadata": {
    "ExecuteTime": {
     "end_time": "2018-05-09T14:10:09.230967Z",
     "start_time": "2018-05-09T14:10:08.932967Z"
    }
   },
   "outputs": [],
   "source": [
    "spotify.play()"
   ]
  },
  {
   "cell_type": "code",
   "execution_count": 22,
   "metadata": {
    "ExecuteTime": {
     "end_time": "2018-05-09T14:09:44.929967Z",
     "start_time": "2018-05-09T14:09:44.620967Z"
    }
   },
   "outputs": [],
   "source": [
    "spotify.next_track()"
   ]
  },
  {
   "cell_type": "code",
   "execution_count": 23,
   "metadata": {
    "ExecuteTime": {
     "end_time": "2018-05-09T14:09:57.646967Z",
     "start_time": "2018-05-09T14:09:57.366967Z"
    }
   },
   "outputs": [],
   "source": [
    "spotify.previous_track()"
   ]
  },
  {
   "cell_type": "code",
   "execution_count": 24,
   "metadata": {
    "ExecuteTime": {
     "end_time": "2018-05-09T14:10:06.775967Z",
     "start_time": "2018-05-09T14:10:06.470967Z"
    }
   },
   "outputs": [],
   "source": [
    "spotify.pause()"
   ]
  }
 ],
 "metadata": {
  "kernelspec": {
   "display_name": "Python 3",
   "language": "python",
   "name": "python3"
  },
  "language_info": {
   "codemirror_mode": {
    "name": "ipython",
    "version": 3
   },
   "file_extension": ".py",
   "mimetype": "text/x-python",
   "name": "python",
   "nbconvert_exporter": "python",
   "pygments_lexer": "ipython3",
   "version": "3.6.3"
  },
  "toc": {
   "colors": {
    "hover_highlight": "#DAA520",
    "running_highlight": "#FF0000",
    "selected_highlight": "#FFD700"
   },
   "moveMenuLeft": true,
   "nav_menu": {
    "height": "30px",
    "width": "252px"
   },
   "navigate_menu": true,
   "number_sections": true,
   "sideBar": true,
   "threshold": 4,
   "toc_cell": false,
   "toc_section_display": "block",
   "toc_window_display": false
  }
 },
 "nbformat": 4,
 "nbformat_minor": 2
}
